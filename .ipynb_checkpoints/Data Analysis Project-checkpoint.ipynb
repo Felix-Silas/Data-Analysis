{
 "cells": [
  {
   "cell_type": "code",
   "execution_count": 1,
   "id": "86120cd2-4165-4ccc-af70-c3f92db2db8f",
   "metadata": {},
   "outputs": [],
   "source": [
    "import pandas as pd\n",
    "import numpy as np\n",
    "import seaborn as sns"
   ]
  },
  {
   "cell_type": "code",
   "execution_count": 2,
   "id": "fc8adac2-ce78-4165-9fd3-b6d8db04b613",
   "metadata": {},
   "outputs": [],
   "source": [
    "# 데이터 불러오기\n",
    "raw_welfare = pd.read_spss('C:/Users/USER-PC/anaconda3/WorkSpace/Doit_Python/Data/Koweps_hpwc14_2019_beta2.sav')\n",
    "\n",
    "# 복사본 만들기\n",
    "welfare = raw_welfare.copy()"
   ]
  },
  {
   "cell_type": "code",
   "execution_count": 3,
   "id": "e7589b11-2a04-4f8a-b77e-56c80d1b96f3",
   "metadata": {},
   "outputs": [],
   "source": [
    "# welfare              # 앞부분, 뒷부분 출력\n",
    "# welfare.shape        # 행, 열 개수 출력\n",
    "# welfare.info()       # 변수 속성 출력\n",
    "# welfare.describe()   # 요약 통계량"
   ]
  },
  {
   "cell_type": "code",
   "execution_count": 4,
   "id": "0654e848-4c64-400f-abf1-d33468ee9f2e",
   "metadata": {},
   "outputs": [],
   "source": [
    "# 변수명 변경하기\n",
    "welfare = welfare.rename(\n",
    "    columns = {'h14_g3' : 'sex',\n",
    "              'h14_g4' : 'birth',\n",
    "              'h14_g10' : 'marriage_type',\n",
    "              'h14_g11' : 'religion', \n",
    "              'p1402_8aq1' : 'income',\n",
    "              'h14_eco9' : 'code_job',\n",
    "              'h14_reg7' : 'code_region'})"
   ]
  },
  {
   "cell_type": "code",
   "execution_count": 5,
   "id": "b5a1e8d6-773c-4350-b595-f53c1691ba35",
   "metadata": {},
   "outputs": [
    {
     "data": {
      "text/plain": [
       "dtype('float64')"
      ]
     },
     "execution_count": 5,
     "metadata": {},
     "output_type": "execute_result"
    }
   ],
   "source": [
    "# sex 변수 타입 출력\n",
    "welfare['sex'].dtypes"
   ]
  },
  {
   "cell_type": "code",
   "execution_count": 6,
   "id": "2d8627d8-98bb-49ae-9b3c-a2528b5b7b07",
   "metadata": {},
   "outputs": [
    {
     "data": {
      "text/plain": [
       "2.0    7913\n",
       "1.0    6505\n",
       "Name: sex, dtype: int64"
      ]
     },
     "execution_count": 6,
     "metadata": {},
     "output_type": "execute_result"
    }
   ],
   "source": [
    "# 빈도 구하기\n",
    "welfare['sex'].value_counts()\n",
    "\n",
    "# 이상치가 결측 처리\n",
    "# welfare['sex'] = np.where(welfare['sex'] == 9, np.nan, welfare['sex'])\n",
    "\n",
    "# 결측치 확인\n",
    "# welfare['sex'].isna().sum()"
   ]
  },
  {
   "cell_type": "code",
   "execution_count": 7,
   "id": "8acddf46-9b91-4311-baf2-25182953bc8c",
   "metadata": {},
   "outputs": [
    {
     "data": {
      "text/plain": [
       "female    7913\n",
       "male      6505\n",
       "Name: sex, dtype: int64"
      ]
     },
     "execution_count": 7,
     "metadata": {},
     "output_type": "execute_result"
    }
   ],
   "source": [
    "# 성별 황목 이름 부여\n",
    "welfare['sex'] = np.where(welfare['sex'] == 1, 'male', 'female')\n",
    "\n",
    "# 빈도 구하기\n",
    "welfare['sex'].value_counts()"
   ]
  },
  {
   "cell_type": "code",
   "execution_count": 8,
   "id": "44092e58-1897-4047-a4ff-91db53f5ef6b",
   "metadata": {},
   "outputs": [
    {
     "data": {
      "text/plain": [
       "<AxesSubplot:xlabel='sex', ylabel='count'>"
      ]
     },
     "execution_count": 8,
     "metadata": {},
     "output_type": "execute_result"
    },
    {
     "data": {
      "image/png": "[encoded data removed]",
      "text/plain": [
       "<Figure size 432x288 with 1 Axes>"
      ]
     },
     "metadata": {
      "needs_background": "light"
     },
     "output_type": "display_data"
    }
   ],
   "source": [
    "# 빈도 막대 그래프 만들기\n",
    "sns.countplot(data = welfare, x = 'sex')"
   ]
  },
  {
   "cell_type": "code",
   "execution_count": 9,
   "id": "222eb495-9943-4aa5-ae5f-e3d3a572165c",
   "metadata": {},
   "outputs": [
    {
     "data": {
      "text/plain": [
       "dtype('float64')"
      ]
     },
     "execution_count": 9,
     "metadata": {},
     "output_type": "execute_result"
    }
   ],
   "source": [
    "# income 변수 타입 출력\n",
    "welfare['income'].dtypes"
   ]
  },
  {
   "cell_type": "code",
   "execution_count": 10,
   "id": "ec020af1-6de4-490e-8568-1d4322eae75b",
   "metadata": {},
   "outputs": [
    {
     "data": {
      "text/plain": [
       "count    4534.000000\n",
       "mean      268.455007\n",
       "std       198.021206\n",
       "min         0.000000\n",
       "25%       150.000000\n",
       "50%       220.000000\n",
       "75%       345.750000\n",
       "max      1892.000000\n",
       "Name: income, dtype: float64"
      ]
     },
     "execution_count": 10,
     "metadata": {},
     "output_type": "execute_result"
    }
   ],
   "source": [
    "# 요약 통계량 구하기\n",
    "welfare['income'].describe()"
   ]
  },
  {
   "cell_type": "code",
   "execution_count": 11,
   "id": "e5490758-c682-4a0b-b587-c1241c0a3bce",
   "metadata": {},
   "outputs": [
    {
     "data": {
      "text/plain": [
       "<AxesSubplot:xlabel='income', ylabel='Count'>"
      ]
     },
     "execution_count": 11,
     "metadata": {},
     "output_type": "execute_result"
    },
    {
     "data": {
      "image/png": "[encoded data removed]",
      "text/plain": [
       "<Figure size 432x288 with 1 Axes>"
      ]
     },
     "metadata": {
      "needs_background": "light"
     },
     "output_type": "display_data"
    }
   ],
   "source": [
    "sns.histplot(data = welfare, x = 'income')"
   ]
  },
  {
   "cell_type": "code",
   "execution_count": 12,
   "id": "2da6ed03-9301-4816-803e-5d2b85cc21d9",
   "metadata": {},
   "outputs": [
    {
     "data": {
      "text/html": [
       "<div>\n",
       "<style scoped>\n",
       "    .dataframe tbody tr th:only-of-type {\n",
       "        vertical-align: middle;\n",
       "    }\n",
       "\n",
       "    .dataframe tbody tr th {\n",
       "        vertical-align: top;\n",
       "    }\n",
       "\n",
       "    .dataframe thead th {\n",
       "        text-align: right;\n",
       "    }\n",
       "</style>\n",
       "<table border=\"1\" class=\"dataframe\">\n",
       "  <thead>\n",
       "    <tr style=\"text-align: right;\">\n",
       "      <th></th>\n",
       "      <th>sex</th>\n",
       "      <th>mean_income</th>\n",
       "    </tr>\n",
       "  </thead>\n",
       "  <tbody>\n",
       "    <tr>\n",
       "      <th>0</th>\n",
       "      <td>female</td>\n",
       "      <td>186.293096</td>\n",
       "    </tr>\n",
       "    <tr>\n",
       "      <th>1</th>\n",
       "      <td>male</td>\n",
       "      <td>349.037571</td>\n",
       "    </tr>\n",
       "  </tbody>\n",
       "</table>\n",
       "</div>"
      ],
      "text/plain": [
       "      sex  mean_income\n",
       "0  female   186.293096\n",
       "1    male   349.037571"
      ]
     },
     "execution_count": 12,
     "metadata": {},
     "output_type": "execute_result"
    }
   ],
   "source": [
    "sex_income = welfare.dropna(subset = ['income']).groupby('sex', as_index = False).agg(mean_income = ('income', 'mean'))\n",
    "sex_income"
   ]
  },
  {
   "cell_type": "code",
   "execution_count": 13,
   "id": "96117b92-1a0e-46ef-bae1-e09543b8df86",
   "metadata": {},
   "outputs": [
    {
     "data": {
      "text/plain": [
       "<AxesSubplot:xlabel='sex', ylabel='mean_income'>"
      ]
     },
     "execution_count": 13,
     "metadata": {},
     "output_type": "execute_result"
    },
    {
     "data": {
      "image/png": "[encoded data removed]",
      "text/plain": [
       "<Figure size 432x288 with 1 Axes>"
      ]
     },
     "metadata": {
      "needs_background": "light"
     },
     "output_type": "display_data"
    }
   ],
   "source": [
    "# 성별에 다른 월급 차이\n",
    "sns.barplot(data = sex_income, x = 'sex', y = 'mean_income')"
   ]
  },
  {
   "cell_type": "code",
   "execution_count": 14,
   "id": "71b6dab9-ed21-4c0a-9d38-622aeacd46d2",
   "metadata": {},
   "outputs": [
    {
     "data": {
      "text/plain": [
       "dtype('float64')"
      ]
     },
     "execution_count": 14,
     "metadata": {},
     "output_type": "execute_result"
    }
   ],
   "source": [
    "# birth 변수 타입 출력\n",
    "welfare['birth'].dtypes"
   ]
  },
  {
   "cell_type": "code",
   "execution_count": 15,
   "id": "81d1955b-27c0-4bcd-b517-6de4adc81159",
   "metadata": {},
   "outputs": [
    {
     "data": {
      "text/plain": [
       "count    14418.000000\n",
       "mean      1969.280205\n",
       "std         24.402250\n",
       "min       1907.000000\n",
       "25%       1948.000000\n",
       "50%       1968.000000\n",
       "75%       1990.000000\n",
       "max       2018.000000\n",
       "Name: birth, dtype: float64"
      ]
     },
     "execution_count": 15,
     "metadata": {},
     "output_type": "execute_result"
    }
   ],
   "source": [
    "# 요약 통계량 구하기\n",
    "welfare['birth'].describe()"
   ]
  },
  {
   "cell_type": "code",
   "execution_count": 16,
   "id": "711ae85e-2910-4c93-8004-eb3138842617",
   "metadata": {},
   "outputs": [
    {
     "data": {
      "text/plain": [
       "<AxesSubplot:xlabel='birth', ylabel='Count'>"
      ]
     },
     "execution_count": 16,
     "metadata": {},
     "output_type": "execute_result"
    },
    {
     "data": {
      "image/png": "[encoded data removed]",
      "text/plain": [
       "<Figure size 432x288 with 1 Axes>"
      ]
     },
     "metadata": {
      "needs_background": "light"
     },
     "output_type": "display_data"
    }
   ],
   "source": [
    "# 히스토그램 만들기\n",
    "sns.histplot(data = welfare, x = 'birth')"
   ]
  },
  {
   "cell_type": "code",
   "execution_count": 17,
   "id": "5c4e7a58-6b16-40b1-aaaa-7059cb24f627",
   "metadata": {},
   "outputs": [
    {
     "data": {
      "text/plain": [
       "count    14418.000000\n",
       "mean        50.719795\n",
       "std         24.402250\n",
       "min          2.000000\n",
       "25%         30.000000\n",
       "50%         52.000000\n",
       "75%         72.000000\n",
       "max        113.000000\n",
       "Name: age, dtype: float64"
      ]
     },
     "execution_count": 17,
     "metadata": {},
     "output_type": "execute_result"
    }
   ],
   "source": [
    "# 나이 변수 만들기\n",
    "welfare = welfare.assign(age = 2019 - welfare['birth'] + 1)\n",
    "\n",
    "# 요약 통계량 구하기\n",
    "welfare['age'].describe()"
   ]
  },
  {
   "cell_type": "code",
   "execution_count": 18,
   "id": "77ec9610-6e95-4432-8fbb-29b0e8d3dc0e",
   "metadata": {},
   "outputs": [
    {
     "data": {
      "text/plain": [
       "<AxesSubplot:xlabel='age', ylabel='Count'>"
      ]
     },
     "execution_count": 18,
     "metadata": {},
     "output_type": "execute_result"
    },
    {
     "data": {
      "image/png": "[encoded data removed]",
      "text/plain": [
       "<Figure size 432x288 with 1 Axes>"
      ]
     },
     "metadata": {
      "needs_background": "light"
     },
     "output_type": "display_data"
    }
   ],
   "source": [
    "# 히스토그램 만들기\n",
    "sns.histplot(data = welfare, x = 'age')"
   ]
  },
  {
   "cell_type": "code",
   "execution_count": 19,
   "id": "c9fdcd05-bacf-4fda-bd51-c40c84f597f2",
   "metadata": {},
   "outputs": [
    {
     "data": {
      "text/html": [
       "<div>\n",
       "<style scoped>\n",
       "    .dataframe tbody tr th:only-of-type {\n",
       "        vertical-align: middle;\n",
       "    }\n",
       "\n",
       "    .dataframe tbody tr th {\n",
       "        vertical-align: top;\n",
       "    }\n",
       "\n",
       "    .dataframe thead th {\n",
       "        text-align: right;\n",
       "    }\n",
       "</style>\n",
       "<table border=\"1\" class=\"dataframe\">\n",
       "  <thead>\n",
       "    <tr style=\"text-align: right;\">\n",
       "      <th></th>\n",
       "      <th>age</th>\n",
       "      <th>mean_income</th>\n",
       "    </tr>\n",
       "  </thead>\n",
       "  <tbody>\n",
       "    <tr>\n",
       "      <th>0</th>\n",
       "      <td>19.0</td>\n",
       "      <td>162.000000</td>\n",
       "    </tr>\n",
       "    <tr>\n",
       "      <th>1</th>\n",
       "      <td>20.0</td>\n",
       "      <td>121.333333</td>\n",
       "    </tr>\n",
       "    <tr>\n",
       "      <th>2</th>\n",
       "      <td>21.0</td>\n",
       "      <td>136.400000</td>\n",
       "    </tr>\n",
       "    <tr>\n",
       "      <th>3</th>\n",
       "      <td>22.0</td>\n",
       "      <td>123.666667</td>\n",
       "    </tr>\n",
       "    <tr>\n",
       "      <th>4</th>\n",
       "      <td>23.0</td>\n",
       "      <td>179.676471</td>\n",
       "    </tr>\n",
       "  </tbody>\n",
       "</table>\n",
       "</div>"
      ],
      "text/plain": [
       "    age  mean_income\n",
       "0  19.0   162.000000\n",
       "1  20.0   121.333333\n",
       "2  21.0   136.400000\n",
       "3  22.0   123.666667\n",
       "4  23.0   179.676471"
      ]
     },
     "execution_count": 19,
     "metadata": {},
     "output_type": "execute_result"
    }
   ],
   "source": [
    "age_income = welfare.dropna(subset = ['income']).groupby('age', as_index = False).agg(mean_income = ('income', 'mean'))\n",
    "age_income.head()"
   ]
  },
  {
   "cell_type": "code",
   "execution_count": 20,
   "id": "4cb4b3f6-3f60-4c33-bd8a-48a383de78a3",
   "metadata": {},
   "outputs": [
    {
     "data": {
      "text/plain": [
       "<AxesSubplot:xlabel='age', ylabel='mean_income'>"
      ]
     },
     "execution_count": 20,
     "metadata": {},
     "output_type": "execute_result"
    },
    {
     "data": {
      "image/png": "[encoded data removed]",
      "text/plain": [
       "<Figure size 432x288 with 1 Axes>"
      ]
     },
     "metadata": {
      "needs_background": "light"
     },
     "output_type": "display_data"
    }
   ],
   "source": [
    "# 나이와 월급의 관계\n",
    "sns.lineplot(data = age_income, x = 'age', y = 'mean_income')"
   ]
  },
  {
   "cell_type": "code",
   "execution_count": 21,
   "id": "a3563021-6a45-4910-8959-cc52d13b210a",
   "metadata": {},
   "outputs": [
    {
     "data": {
      "text/plain": [
       "old       5955\n",
       "middle    4963\n",
       "young     3500\n",
       "Name: ageg, dtype: int64"
      ]
     },
     "execution_count": 21,
     "metadata": {},
     "output_type": "execute_result"
    }
   ],
   "source": [
    "# 연령대 변수 만들기\n",
    "welfare = welfare.assign(ageg = np.where(welfare['age'] < 30, 'young',\n",
    "                                np.where(welfare['age'] <= 59, 'middle', 'old')))\n",
    "\n",
    "# 빈도 구하기\n",
    "welfare['ageg'].value_counts()"
   ]
  },
  {
   "cell_type": "code",
   "execution_count": 22,
   "id": "b7cf3f65-563e-469c-8eef-550f92a08a40",
   "metadata": {},
   "outputs": [
    {
     "data": {
      "text/plain": [
       "<AxesSubplot:xlabel='ageg', ylabel='count'>"
      ]
     },
     "execution_count": 22,
     "metadata": {},
     "output_type": "execute_result"
    },
    {
     "data": {
      "image/png": "[encoded data removed]",
      "text/plain": [
       "<Figure size 432x288 with 1 Axes>"
      ]
     },
     "metadata": {
      "needs_background": "light"
     },
     "output_type": "display_data"
    }
   ],
   "source": [
    "# 빈도 막대 그래프 만들기\n",
    "sns.countplot(data = welfare, x = 'ageg')"
   ]
  },
  {
   "cell_type": "code",
   "execution_count": 23,
   "id": "e450dfb5-e269-4269-bfae-514ff29579a8",
   "metadata": {},
   "outputs": [
    {
     "data": {
      "text/html": [
       "<div>\n",
       "<style scoped>\n",
       "    .dataframe tbody tr th:only-of-type {\n",
       "        vertical-align: middle;\n",
       "    }\n",
       "\n",
       "    .dataframe tbody tr th {\n",
       "        vertical-align: top;\n",
       "    }\n",
       "\n",
       "    .dataframe thead th {\n",
       "        text-align: right;\n",
       "    }\n",
       "</style>\n",
       "<table border=\"1\" class=\"dataframe\">\n",
       "  <thead>\n",
       "    <tr style=\"text-align: right;\">\n",
       "      <th></th>\n",
       "      <th>ageg</th>\n",
       "      <th>mean_income</th>\n",
       "    </tr>\n",
       "  </thead>\n",
       "  <tbody>\n",
       "    <tr>\n",
       "      <th>0</th>\n",
       "      <td>middle</td>\n",
       "      <td>329.157157</td>\n",
       "    </tr>\n",
       "    <tr>\n",
       "      <th>1</th>\n",
       "      <td>old</td>\n",
       "      <td>140.129003</td>\n",
       "    </tr>\n",
       "    <tr>\n",
       "      <th>2</th>\n",
       "      <td>young</td>\n",
       "      <td>195.663424</td>\n",
       "    </tr>\n",
       "  </tbody>\n",
       "</table>\n",
       "</div>"
      ],
      "text/plain": [
       "     ageg  mean_income\n",
       "0  middle   329.157157\n",
       "1     old   140.129003\n",
       "2   young   195.663424"
      ]
     },
     "execution_count": 23,
     "metadata": {},
     "output_type": "execute_result"
    }
   ],
   "source": [
    "ageg_income = welfare.dropna(subset = ['income']).groupby('ageg', as_index = False).agg(mean_income = ('income', 'mean'))\n",
    "ageg_income"
   ]
  },
  {
   "cell_type": "code",
   "execution_count": 24,
   "id": "9d51b61d-4071-495e-bf9d-830b58e94385",
   "metadata": {},
   "outputs": [
    {
     "data": {
      "text/plain": [
       "<AxesSubplot:xlabel='ageg', ylabel='mean_income'>"
      ]
     },
     "execution_count": 24,
     "metadata": {},
     "output_type": "execute_result"
    },
    {
     "data": {
      "image/png": "[encoded data removed]",
      "text/plain": [
       "<Figure size 432x288 with 1 Axes>"
      ]
     },
     "metadata": {
      "needs_background": "light"
     },
     "output_type": "display_data"
    }
   ],
   "source": [
    "# 연령대에 따른 월급 차이\n",
    "sns.barplot(data = ageg_income, x = 'ageg', y = 'mean_income')"
   ]
  },
  {
   "cell_type": "code",
   "execution_count": 25,
   "id": "4242b1ac-05a8-4694-8fad-9fe4b4408f6c",
   "metadata": {},
   "outputs": [
    {
     "data": {
      "text/plain": [
       "<AxesSubplot:xlabel='ageg', ylabel='mean_income'>"
      ]
     },
     "execution_count": 25,
     "metadata": {},
     "output_type": "execute_result"
    },
    {
     "data": {
      "image/png": "[encoded data removed]",
      "text/plain": [
       "<Figure size 432x288 with 1 Axes>"
      ]
     },
     "metadata": {
      "needs_background": "light"
     },
     "output_type": "display_data"
    }
   ],
   "source": [
    "sns.barplot(data = ageg_income, x = 'ageg', y = 'mean_income', order = ['young', 'middle', 'old'])"
   ]
  },
  {
   "cell_type": "code",
   "execution_count": 26,
   "id": "91fd4087-82c7-42e7-a443-4484d42bdc36",
   "metadata": {},
   "outputs": [
    {
     "data": {
      "text/html": [
       "<div>\n",
       "<style scoped>\n",
       "    .dataframe tbody tr th:only-of-type {\n",
       "        vertical-align: middle;\n",
       "    }\n",
       "\n",
       "    .dataframe tbody tr th {\n",
       "        vertical-align: top;\n",
       "    }\n",
       "\n",
       "    .dataframe thead th {\n",
       "        text-align: right;\n",
       "    }\n",
       "</style>\n",
       "<table border=\"1\" class=\"dataframe\">\n",
       "  <thead>\n",
       "    <tr style=\"text-align: right;\">\n",
       "      <th></th>\n",
       "      <th>ageg</th>\n",
       "      <th>sex</th>\n",
       "      <th>mean_income</th>\n",
       "    </tr>\n",
       "  </thead>\n",
       "  <tbody>\n",
       "    <tr>\n",
       "      <th>0</th>\n",
       "      <td>middle</td>\n",
       "      <td>female</td>\n",
       "      <td>230.481735</td>\n",
       "    </tr>\n",
       "    <tr>\n",
       "      <th>1</th>\n",
       "      <td>middle</td>\n",
       "      <td>male</td>\n",
       "      <td>409.541228</td>\n",
       "    </tr>\n",
       "    <tr>\n",
       "      <th>2</th>\n",
       "      <td>old</td>\n",
       "      <td>female</td>\n",
       "      <td>90.228896</td>\n",
       "    </tr>\n",
       "    <tr>\n",
       "      <th>3</th>\n",
       "      <td>old</td>\n",
       "      <td>male</td>\n",
       "      <td>204.570231</td>\n",
       "    </tr>\n",
       "    <tr>\n",
       "      <th>4</th>\n",
       "      <td>young</td>\n",
       "      <td>female</td>\n",
       "      <td>189.822222</td>\n",
       "    </tr>\n",
       "    <tr>\n",
       "      <th>5</th>\n",
       "      <td>young</td>\n",
       "      <td>male</td>\n",
       "      <td>204.909548</td>\n",
       "    </tr>\n",
       "  </tbody>\n",
       "</table>\n",
       "</div>"
      ],
      "text/plain": [
       "     ageg     sex  mean_income\n",
       "0  middle  female   230.481735\n",
       "1  middle    male   409.541228\n",
       "2     old  female    90.228896\n",
       "3     old    male   204.570231\n",
       "4   young  female   189.822222\n",
       "5   young    male   204.909548"
      ]
     },
     "execution_count": 26,
     "metadata": {},
     "output_type": "execute_result"
    }
   ],
   "source": [
    "sex_income = welfare.dropna(subset = ['income']).groupby(['ageg', 'sex'], as_index = False).agg(mean_income = ('income', 'mean'))\n",
    "sex_income"
   ]
  },
  {
   "cell_type": "code",
   "execution_count": 28,
   "id": "c59e4da6-6a59-4679-a495-3b421a96262f",
   "metadata": {},
   "outputs": [
    {
     "data": {
      "text/plain": [
       "<AxesSubplot:xlabel='ageg', ylabel='mean_income'>"
      ]
     },
     "execution_count": 28,
     "metadata": {},
     "output_type": "execute_result"
    },
    {
     "data": {
      "image/png": "[encoded data removed]",
      "text/plain": [
       "<Figure size 432x288 with 1 Axes>"
      ]
     },
     "metadata": {
      "needs_background": "light"
     },
     "output_type": "display_data"
    }
   ],
   "source": [
    "# 연령대 및 성별 월급 차이\n",
    "sns.barplot(data = sex_income, x = 'ageg', y = 'mean_income', hue = 'sex', order = ['young', 'middle', 'old'])"
   ]
  },
  {
   "cell_type": "code",
   "execution_count": 29,
   "id": "f65a8d43-edd8-4d7a-adf1-58fa77200f7e",
   "metadata": {},
   "outputs": [
    {
     "data": {
      "text/html": [
       "<div>\n",
       "<style scoped>\n",
       "    .dataframe tbody tr th:only-of-type {\n",
       "        vertical-align: middle;\n",
       "    }\n",
       "\n",
       "    .dataframe tbody tr th {\n",
       "        vertical-align: top;\n",
       "    }\n",
       "\n",
       "    .dataframe thead th {\n",
       "        text-align: right;\n",
       "    }\n",
       "</style>\n",
       "<table border=\"1\" class=\"dataframe\">\n",
       "  <thead>\n",
       "    <tr style=\"text-align: right;\">\n",
       "      <th></th>\n",
       "      <th>age</th>\n",
       "      <th>sex</th>\n",
       "      <th>mean_income</th>\n",
       "    </tr>\n",
       "  </thead>\n",
       "  <tbody>\n",
       "    <tr>\n",
       "      <th>0</th>\n",
       "      <td>19.0</td>\n",
       "      <td>male</td>\n",
       "      <td>162.000000</td>\n",
       "    </tr>\n",
       "    <tr>\n",
       "      <th>1</th>\n",
       "      <td>20.0</td>\n",
       "      <td>female</td>\n",
       "      <td>87.666667</td>\n",
       "    </tr>\n",
       "    <tr>\n",
       "      <th>2</th>\n",
       "      <td>20.0</td>\n",
       "      <td>male</td>\n",
       "      <td>155.000000</td>\n",
       "    </tr>\n",
       "    <tr>\n",
       "      <th>3</th>\n",
       "      <td>21.0</td>\n",
       "      <td>female</td>\n",
       "      <td>124.000000</td>\n",
       "    </tr>\n",
       "    <tr>\n",
       "      <th>4</th>\n",
       "      <td>21.0</td>\n",
       "      <td>male</td>\n",
       "      <td>186.000000</td>\n",
       "    </tr>\n",
       "    <tr>\n",
       "      <th>...</th>\n",
       "      <td>...</td>\n",
       "      <td>...</td>\n",
       "      <td>...</td>\n",
       "    </tr>\n",
       "    <tr>\n",
       "      <th>140</th>\n",
       "      <td>89.0</td>\n",
       "      <td>male</td>\n",
       "      <td>27.000000</td>\n",
       "    </tr>\n",
       "    <tr>\n",
       "      <th>141</th>\n",
       "      <td>90.0</td>\n",
       "      <td>female</td>\n",
       "      <td>27.000000</td>\n",
       "    </tr>\n",
       "    <tr>\n",
       "      <th>142</th>\n",
       "      <td>91.0</td>\n",
       "      <td>female</td>\n",
       "      <td>27.000000</td>\n",
       "    </tr>\n",
       "    <tr>\n",
       "      <th>143</th>\n",
       "      <td>91.0</td>\n",
       "      <td>male</td>\n",
       "      <td>13.000000</td>\n",
       "    </tr>\n",
       "    <tr>\n",
       "      <th>144</th>\n",
       "      <td>92.0</td>\n",
       "      <td>female</td>\n",
       "      <td>27.000000</td>\n",
       "    </tr>\n",
       "  </tbody>\n",
       "</table>\n",
       "<p>145 rows × 3 columns</p>\n",
       "</div>"
      ],
      "text/plain": [
       "      age     sex  mean_income\n",
       "0    19.0    male   162.000000\n",
       "1    20.0  female    87.666667\n",
       "2    20.0    male   155.000000\n",
       "3    21.0  female   124.000000\n",
       "4    21.0    male   186.000000\n",
       "..    ...     ...          ...\n",
       "140  89.0    male    27.000000\n",
       "141  90.0  female    27.000000\n",
       "142  91.0  female    27.000000\n",
       "143  91.0    male    13.000000\n",
       "144  92.0  female    27.000000\n",
       "\n",
       "[145 rows x 3 columns]"
      ]
     },
     "execution_count": 29,
     "metadata": {},
     "output_type": "execute_result"
    }
   ],
   "source": [
    "sex_age = welfare.dropna(subset = ['income']).groupby(['age', 'sex'], as_index = False).agg(mean_income = ('income', 'mean'))\n",
    "sex_age"
   ]
  },
  {
   "cell_type": "code",
   "execution_count": 32,
   "id": "7aea68ae-8df1-4a50-974d-d4c94711598e",
   "metadata": {},
   "outputs": [
    {
     "data": {
      "text/plain": [
       "<AxesSubplot:xlabel='age', ylabel='mean_income'>"
      ]
     },
     "execution_count": 32,
     "metadata": {},
     "output_type": "execute_result"
    },
    {
     "data": {
      "image/png": "[encoded data removed]",
      "text/plain": [
       "<Figure size 432x288 with 1 Axes>"
      ]
     },
     "metadata": {
      "needs_background": "light"
     },
     "output_type": "display_data"
    }
   ],
   "source": [
    "# 나이 및 성별 월급 차이\n",
    "sns.lineplot(data = sex_age, x = 'age', y = 'mean_income', hue = 'sex')"
   ]
  },
  {
   "cell_type": "code",
   "execution_count": 33,
   "id": "04df6558-e4a5-4861-ae35-d639f2a31d9c",
   "metadata": {},
   "outputs": [
    {
     "data": {
      "text/plain": [
       "dtype('float64')"
      ]
     },
     "execution_count": 33,
     "metadata": {},
     "output_type": "execute_result"
    }
   ],
   "source": [
    "welfare['code_job'].dtypes"
   ]
  },
  {
   "cell_type": "code",
   "execution_count": 34,
   "id": "43771537-3775-45cf-89d3-d4341d0ec581",
   "metadata": {},
   "outputs": [
    {
     "data": {
      "text/plain": [
       "611.0    962\n",
       "941.0    391\n",
       "521.0    354\n",
       "312.0    275\n",
       "873.0    236\n",
       "        ... \n",
       "112.0      2\n",
       "784.0      2\n",
       "423.0      1\n",
       "861.0      1\n",
       "872.0      1\n",
       "Name: code_job, Length: 150, dtype: int64"
      ]
     },
     "execution_count": 34,
     "metadata": {},
     "output_type": "execute_result"
    }
   ],
   "source": [
    "welfare['code_job'].value_counts()"
   ]
  },
  {
   "cell_type": "code",
   "execution_count": 35,
   "id": "828eb75a-e8ef-40a0-a072-f84be48ccea3",
   "metadata": {},
   "outputs": [
    {
     "data": {
      "text/html": [
       "<div>\n",
       "<style scoped>\n",
       "    .dataframe tbody tr th:only-of-type {\n",
       "        vertical-align: middle;\n",
       "    }\n",
       "\n",
       "    .dataframe tbody tr th {\n",
       "        vertical-align: top;\n",
       "    }\n",
       "\n",
       "    .dataframe thead th {\n",
       "        text-align: right;\n",
       "    }\n",
       "</style>\n",
       "<table border=\"1\" class=\"dataframe\">\n",
       "  <thead>\n",
       "    <tr style=\"text-align: right;\">\n",
       "      <th></th>\n",
       "      <th>code_job</th>\n",
       "      <th>job</th>\n",
       "    </tr>\n",
       "  </thead>\n",
       "  <tbody>\n",
       "    <tr>\n",
       "      <th>0</th>\n",
       "      <td>111</td>\n",
       "      <td>의회 의원∙고위 공무원 및 공공단체 임원</td>\n",
       "    </tr>\n",
       "    <tr>\n",
       "      <th>1</th>\n",
       "      <td>112</td>\n",
       "      <td>기업 고위 임원</td>\n",
       "    </tr>\n",
       "    <tr>\n",
       "      <th>2</th>\n",
       "      <td>121</td>\n",
       "      <td>행정 및 경영 지원 관리자</td>\n",
       "    </tr>\n",
       "    <tr>\n",
       "      <th>3</th>\n",
       "      <td>122</td>\n",
       "      <td>마케팅 및 광고∙홍보 관리자</td>\n",
       "    </tr>\n",
       "    <tr>\n",
       "      <th>4</th>\n",
       "      <td>131</td>\n",
       "      <td>연구∙교육 및 법률 관련 관리자</td>\n",
       "    </tr>\n",
       "  </tbody>\n",
       "</table>\n",
       "</div>"
      ],
      "text/plain": [
       "   code_job                     job\n",
       "0       111  의회 의원∙고위 공무원 및 공공단체 임원\n",
       "1       112                기업 고위 임원\n",
       "2       121          행정 및 경영 지원 관리자\n",
       "3       122         마케팅 및 광고∙홍보 관리자\n",
       "4       131       연구∙교육 및 법률 관련 관리자"
      ]
     },
     "execution_count": 35,
     "metadata": {},
     "output_type": "execute_result"
    }
   ],
   "source": [
    "list_job = pd.read_excel('C:/Users/USER-PC/anaconda3/WorkSpace/Doit_Python/Data/Koweps_Codebook_2019.xlsx', sheet_name = '직종코드')\n",
    "list_job.head()"
   ]
  },
  {
   "cell_type": "code",
   "execution_count": 37,
   "id": "aca0a0c9-f4c9-431c-83d3-4c494c2a1af3",
   "metadata": {},
   "outputs": [
    {
     "data": {
      "text/plain": [
       "(156, 2)"
      ]
     },
     "execution_count": 37,
     "metadata": {},
     "output_type": "execute_result"
    }
   ],
   "source": [
    "# 행, 열 개수 출력\n",
    "list_job.shape"
   ]
  },
  {
   "cell_type": "code",
   "execution_count": 38,
   "id": "f7cd4978-9fef-4008-a240-8961f029c01a",
   "metadata": {},
   "outputs": [],
   "source": [
    "# welfare와 list_job 결합하기\n",
    "welfare = welfare.merge(list_job, how = 'left', on = 'code_job')"
   ]
  },
  {
   "cell_type": "code",
   "execution_count": 41,
   "id": "0007b33d-a63c-44f9-aad4-45fb86c0caf0",
   "metadata": {},
   "outputs": [
    {
     "data": {
      "text/html": [
       "<div>\n",
       "<style scoped>\n",
       "    .dataframe tbody tr th:only-of-type {\n",
       "        vertical-align: middle;\n",
       "    }\n",
       "\n",
       "    .dataframe tbody tr th {\n",
       "        vertical-align: top;\n",
       "    }\n",
       "\n",
       "    .dataframe thead th {\n",
       "        text-align: right;\n",
       "    }\n",
       "</style>\n",
       "<table border=\"1\" class=\"dataframe\">\n",
       "  <thead>\n",
       "    <tr style=\"text-align: right;\">\n",
       "      <th></th>\n",
       "      <th>code_job</th>\n",
       "      <th>job</th>\n",
       "    </tr>\n",
       "  </thead>\n",
       "  <tbody>\n",
       "    <tr>\n",
       "      <th>2</th>\n",
       "      <td>762.0</td>\n",
       "      <td>전기공</td>\n",
       "    </tr>\n",
       "    <tr>\n",
       "      <th>3</th>\n",
       "      <td>855.0</td>\n",
       "      <td>금속기계 부품 조립원</td>\n",
       "    </tr>\n",
       "    <tr>\n",
       "      <th>7</th>\n",
       "      <td>941.0</td>\n",
       "      <td>청소원 및 환경미화원</td>\n",
       "    </tr>\n",
       "    <tr>\n",
       "      <th>8</th>\n",
       "      <td>999.0</td>\n",
       "      <td>기타 서비스 관련 단순 종사자</td>\n",
       "    </tr>\n",
       "    <tr>\n",
       "      <th>14</th>\n",
       "      <td>312.0</td>\n",
       "      <td>경영 관련 사무원</td>\n",
       "    </tr>\n",
       "  </tbody>\n",
       "</table>\n",
       "</div>"
      ],
      "text/plain": [
       "    code_job               job\n",
       "2      762.0               전기공\n",
       "3      855.0       금속기계 부품 조립원\n",
       "7      941.0       청소원 및 환경미화원\n",
       "8      999.0  기타 서비스 관련 단순 종사자\n",
       "14     312.0         경영 관련 사무원"
      ]
     },
     "execution_count": 41,
     "metadata": {},
     "output_type": "execute_result"
    }
   ],
   "source": [
    "# code_job 결측치 제거하고 code_job, job 출력\n",
    "welfare.dropna(subset = ['code_job'])[['code_job', 'job']].head()"
   ]
  },
  {
   "cell_type": "code",
   "execution_count": 42,
   "id": "9bc250c3-2fc8-45c8-b5f0-e493b92475f9",
   "metadata": {},
   "outputs": [
    {
     "data": {
      "text/html": [
       "<div>\n",
       "<style scoped>\n",
       "    .dataframe tbody tr th:only-of-type {\n",
       "        vertical-align: middle;\n",
       "    }\n",
       "\n",
       "    .dataframe tbody tr th {\n",
       "        vertical-align: top;\n",
       "    }\n",
       "\n",
       "    .dataframe thead th {\n",
       "        text-align: right;\n",
       "    }\n",
       "</style>\n",
       "<table border=\"1\" class=\"dataframe\">\n",
       "  <thead>\n",
       "    <tr style=\"text-align: right;\">\n",
       "      <th></th>\n",
       "      <th>job</th>\n",
       "      <th>mean_income</th>\n",
       "    </tr>\n",
       "  </thead>\n",
       "  <tbody>\n",
       "    <tr>\n",
       "      <th>0</th>\n",
       "      <td>가사 및 육아 도우미</td>\n",
       "      <td>92.455882</td>\n",
       "    </tr>\n",
       "    <tr>\n",
       "      <th>1</th>\n",
       "      <td>간호사</td>\n",
       "      <td>265.219178</td>\n",
       "    </tr>\n",
       "    <tr>\n",
       "      <th>2</th>\n",
       "      <td>감정∙기술영업및중개관련종사자</td>\n",
       "      <td>391.000000</td>\n",
       "    </tr>\n",
       "    <tr>\n",
       "      <th>3</th>\n",
       "      <td>건물 관리원 및 검표원</td>\n",
       "      <td>168.375000</td>\n",
       "    </tr>\n",
       "    <tr>\n",
       "      <th>4</th>\n",
       "      <td>건설 및 광업 단순 종사자</td>\n",
       "      <td>261.975000</td>\n",
       "    </tr>\n",
       "  </tbody>\n",
       "</table>\n",
       "</div>"
      ],
      "text/plain": [
       "                job  mean_income\n",
       "0       가사 및 육아 도우미    92.455882\n",
       "1               간호사   265.219178\n",
       "2  감정∙기술영업및중개관련종사자    391.000000\n",
       "3      건물 관리원 및 검표원   168.375000\n",
       "4    건설 및 광업 단순 종사자   261.975000"
      ]
     },
     "execution_count": 42,
     "metadata": {},
     "output_type": "execute_result"
    }
   ],
   "source": [
    "job_income = welfare.dropna(subset = ['job', 'income']).groupby('job', as_index = False).agg(mean_income = ('income', 'mean'))\n",
    "job_income.head()"
   ]
  },
  {
   "cell_type": "code",
   "execution_count": 45,
   "id": "e0ab3cb6-44d9-4e1d-b287-3c12c4786a68",
   "metadata": {},
   "outputs": [
    {
     "data": {
      "text/html": [
       "<div>\n",
       "<style scoped>\n",
       "    .dataframe tbody tr th:only-of-type {\n",
       "        vertical-align: middle;\n",
       "    }\n",
       "\n",
       "    .dataframe tbody tr th {\n",
       "        vertical-align: top;\n",
       "    }\n",
       "\n",
       "    .dataframe thead th {\n",
       "        text-align: right;\n",
       "    }\n",
       "</style>\n",
       "<table border=\"1\" class=\"dataframe\">\n",
       "  <thead>\n",
       "    <tr style=\"text-align: right;\">\n",
       "      <th></th>\n",
       "      <th>job</th>\n",
       "      <th>mean_income</th>\n",
       "    </tr>\n",
       "  </thead>\n",
       "  <tbody>\n",
       "    <tr>\n",
       "      <th>98</th>\n",
       "      <td>의료 진료 전문가</td>\n",
       "      <td>781.000000</td>\n",
       "    </tr>\n",
       "    <tr>\n",
       "      <th>60</th>\n",
       "      <td>법률 전문가</td>\n",
       "      <td>776.333333</td>\n",
       "    </tr>\n",
       "    <tr>\n",
       "      <th>140</th>\n",
       "      <td>행정 및 경영 지원 관리자</td>\n",
       "      <td>771.833333</td>\n",
       "    </tr>\n",
       "    <tr>\n",
       "      <th>63</th>\n",
       "      <td>보험 및 금융 관리자</td>\n",
       "      <td>734.750000</td>\n",
       "    </tr>\n",
       "    <tr>\n",
       "      <th>110</th>\n",
       "      <td>재활용 처리 및 소각로 조작원</td>\n",
       "      <td>688.000000</td>\n",
       "    </tr>\n",
       "    <tr>\n",
       "      <th>131</th>\n",
       "      <td>컴퓨터 하드웨어 및 통신공학 전문가</td>\n",
       "      <td>679.444444</td>\n",
       "    </tr>\n",
       "    <tr>\n",
       "      <th>24</th>\n",
       "      <td>기계∙로봇공학 기술자 및 시험원</td>\n",
       "      <td>669.166667</td>\n",
       "    </tr>\n",
       "    <tr>\n",
       "      <th>6</th>\n",
       "      <td>건설∙전기 및 생산 관련 관리자</td>\n",
       "      <td>603.083333</td>\n",
       "    </tr>\n",
       "    <tr>\n",
       "      <th>120</th>\n",
       "      <td>제관원 및 판금원</td>\n",
       "      <td>597.000000</td>\n",
       "    </tr>\n",
       "    <tr>\n",
       "      <th>100</th>\n",
       "      <td>의회 의원∙고위 공무원 및 공공단체 임원</td>\n",
       "      <td>580.500000</td>\n",
       "    </tr>\n",
       "  </tbody>\n",
       "</table>\n",
       "</div>"
      ],
      "text/plain": [
       "                        job  mean_income\n",
       "98                의료 진료 전문가   781.000000\n",
       "60                   법률 전문가   776.333333\n",
       "140          행정 및 경영 지원 관리자   771.833333\n",
       "63              보험 및 금융 관리자   734.750000\n",
       "110        재활용 처리 및 소각로 조작원   688.000000\n",
       "131     컴퓨터 하드웨어 및 통신공학 전문가   679.444444\n",
       "24        기계∙로봇공학 기술자 및 시험원   669.166667\n",
       "6         건설∙전기 및 생산 관련 관리자   603.083333\n",
       "120               제관원 및 판금원   597.000000\n",
       "100  의회 의원∙고위 공무원 및 공공단체 임원   580.500000"
      ]
     },
     "execution_count": 45,
     "metadata": {},
     "output_type": "execute_result"
    }
   ],
   "source": [
    "# 상위 10위 추출\n",
    "top10 = job_income.sort_values('mean_income', ascending = False).head(10)\n",
    "top10"
   ]
  },
  {
   "cell_type": "code",
   "execution_count": 46,
   "id": "8b1800a5-07e5-4516-819d-9e08d44ab8b9",
   "metadata": {},
   "outputs": [],
   "source": [
    "# 맑은 고딕 폰트 설정\n",
    "import matplotlib.pyplot as plt\n",
    "plt.rcParams.update({'font.family' : 'Malgun Gothic'})"
   ]
  },
  {
   "cell_type": "code",
   "execution_count": 48,
   "id": "df32fee3-c953-4668-bbd4-d852c9ae32f8",
   "metadata": {},
   "outputs": [
    {
     "data": {
      "text/plain": [
       "<AxesSubplot:xlabel='mean_income', ylabel='job'>"
      ]
     },
     "execution_count": 48,
     "metadata": {},
     "output_type": "execute_result"
    },
    {
     "data": {
      "image/png": "[encoded data removed]",
      "text/plain": [
       "<Figure size 432x288 with 1 Axes>"
      ]
     },
     "metadata": {
      "needs_background": "light"
     },
     "output_type": "display_data"
    }
   ],
   "source": [
    "sns.barplot(data = top10, y = 'job', x = 'mean_income')"
   ]
  },
  {
   "cell_type": "code",
   "execution_count": 49,
   "id": "2a944c01-8705-4cfb-93f9-3aabf9233dbd",
   "metadata": {},
   "outputs": [
    {
     "data": {
      "text/html": [
       "<div>\n",
       "<style scoped>\n",
       "    .dataframe tbody tr th:only-of-type {\n",
       "        vertical-align: middle;\n",
       "    }\n",
       "\n",
       "    .dataframe tbody tr th {\n",
       "        vertical-align: top;\n",
       "    }\n",
       "\n",
       "    .dataframe thead th {\n",
       "        text-align: right;\n",
       "    }\n",
       "</style>\n",
       "<table border=\"1\" class=\"dataframe\">\n",
       "  <thead>\n",
       "    <tr style=\"text-align: right;\">\n",
       "      <th></th>\n",
       "      <th>job</th>\n",
       "      <th>mean_income</th>\n",
       "    </tr>\n",
       "  </thead>\n",
       "  <tbody>\n",
       "    <tr>\n",
       "      <th>33</th>\n",
       "      <td>기타 돌봄∙보건 및 개인 생활 서비스 종사자</td>\n",
       "      <td>73.964286</td>\n",
       "    </tr>\n",
       "    <tr>\n",
       "      <th>34</th>\n",
       "      <td>기타 서비스 관련 단순 종사자</td>\n",
       "      <td>77.789474</td>\n",
       "    </tr>\n",
       "    <tr>\n",
       "      <th>128</th>\n",
       "      <td>청소원 및 환경미화원</td>\n",
       "      <td>88.461756</td>\n",
       "    </tr>\n",
       "    <tr>\n",
       "      <th>0</th>\n",
       "      <td>가사 및 육아 도우미</td>\n",
       "      <td>92.455882</td>\n",
       "    </tr>\n",
       "    <tr>\n",
       "      <th>43</th>\n",
       "      <td>돌봄 및 보건 서비스 종사자</td>\n",
       "      <td>117.162338</td>\n",
       "    </tr>\n",
       "    <tr>\n",
       "      <th>97</th>\n",
       "      <td>음식 관련 단순 종사자</td>\n",
       "      <td>118.187500</td>\n",
       "    </tr>\n",
       "    <tr>\n",
       "      <th>39</th>\n",
       "      <td>농림∙어업 관련 단순 종사자</td>\n",
       "      <td>122.625000</td>\n",
       "    </tr>\n",
       "    <tr>\n",
       "      <th>139</th>\n",
       "      <td>학예사∙사서 및 기록물 관리사</td>\n",
       "      <td>140.000000</td>\n",
       "    </tr>\n",
       "    <tr>\n",
       "      <th>126</th>\n",
       "      <td>채굴 및 토목 관련 기능 종사자</td>\n",
       "      <td>140.000000</td>\n",
       "    </tr>\n",
       "    <tr>\n",
       "      <th>135</th>\n",
       "      <td>판매 관련 단순 종사자</td>\n",
       "      <td>140.909091</td>\n",
       "    </tr>\n",
       "  </tbody>\n",
       "</table>\n",
       "</div>"
      ],
      "text/plain": [
       "                          job  mean_income\n",
       "33   기타 돌봄∙보건 및 개인 생활 서비스 종사자    73.964286\n",
       "34           기타 서비스 관련 단순 종사자    77.789474\n",
       "128               청소원 및 환경미화원    88.461756\n",
       "0                 가사 및 육아 도우미    92.455882\n",
       "43            돌봄 및 보건 서비스 종사자   117.162338\n",
       "97               음식 관련 단순 종사자   118.187500\n",
       "39            농림∙어업 관련 단순 종사자   122.625000\n",
       "139          학예사∙사서 및 기록물 관리사   140.000000\n",
       "126         채굴 및 토목 관련 기능 종사자   140.000000\n",
       "135              판매 관련 단순 종사자   140.909091"
      ]
     },
     "execution_count": 49,
     "metadata": {},
     "output_type": "execute_result"
    }
   ],
   "source": [
    "bottom10 = job_income.sort_values('mean_income').head(10)\n",
    "bottom10"
   ]
  },
  {
   "cell_type": "code",
   "execution_count": 50,
   "id": "b2b6aaab-c915-4d10-9189-65690ba031da",
   "metadata": {},
   "outputs": [
    {
     "data": {
      "text/plain": [
       "[(0.0, 800.0)]"
      ]
     },
     "execution_count": 50,
     "metadata": {},
     "output_type": "execute_result"
    },
    {
     "data": {
      "image/png": "[encoded data removed]",
      "text/plain": [
       "<Figure size 432x288 with 1 Axes>"
      ]
     },
     "metadata": {
      "needs_background": "light"
     },
     "output_type": "display_data"
    }
   ],
   "source": [
    "sns.barplot(data = bottom10, y = 'job', x = 'mean_income').set(xlim = (0, 800))"
   ]
  }
 ],
 "metadata": {
  "kernelspec": {
   "display_name": "Python 3 (ipykernel)",
   "language": "python",
   "name": "python3"
  },
  "language_info": {
   "codemirror_mode": {
    "name": "ipython",
    "version": 3
   },
   "file_extension": ".py",
   "mimetype": "text/x-python",
   "name": "python",
   "nbconvert_exporter": "python",
   "pygments_lexer": "ipython3",
   "version": "3.9.7"
  }
 },
 "nbformat": 4,
 "nbformat_minor": 5
}
